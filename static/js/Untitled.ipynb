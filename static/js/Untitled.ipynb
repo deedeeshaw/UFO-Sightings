{
 "cells": [
  {
   "cell_type": "code",
   "execution_count": 1,
   "metadata": {},
   "outputs": [
    {
     "name": "stdout",
     "output_type": "stream",
     "text": [
      "Pixiedust database opened successfully\n"
     ]
    },
    {
     "data": {
      "text/html": [
       "\n",
       "        <div style=\"margin:10px\">\n",
       "            <a href=\"https://github.com/ibm-watson-data-lab/pixiedust\" target=\"_new\">\n",
       "                <img src=\"https://github.com/ibm-watson-data-lab/pixiedust/raw/master/docs/_static/pd_icon32.png\" style=\"float:left;margin-right:10px\"/>\n",
       "            </a>\n",
       "            <span>Pixiedust version 1.1.15</span>\n",
       "        </div>\n",
       "        "
      ],
      "text/plain": [
       "<IPython.core.display.HTML object>"
      ]
     },
     "metadata": {},
     "output_type": "display_data"
    },
    {
     "data": {
      "text/html": [
       "\n",
       "            <div style=\"margin:10px\"> \n",
       "            <a href=\"https://github.com/ibm-cds-labs/pixiedust_node\" target=\"_new\"> \n",
       "            <img src=\"https://github.com/ibm-cds-labs/pixiedust_node/raw/master/docs/_images/pdn_icon32.png\" style=\"float:left;margin-right:10px\"/> \n",
       "            </a> \n",
       "            <span>Pixiedust Node.js</span> \n",
       "            </div> \n"
      ],
      "text/plain": [
       "<IPython.core.display.HTML object>"
      ]
     },
     "metadata": {},
     "output_type": "display_data"
    },
    {
     "name": "stdout",
     "output_type": "stream",
     "text": [
      "pixiedust_node 0.2.5 started. Cells starting '%%node' may contain Node.js code.\n"
     ]
    }
   ],
   "source": [
    "import pixiedust_node"
   ]
  },
  {
   "cell_type": "code",
   "execution_count": 2,
   "metadata": {},
   "outputs": [
    {
     "name": "stdout",
     "output_type": "stream",
     "text": [
      "... ... ... ... ... ... ... ... ... ... ... ... ... ... ... ... ... ... ... ... ... ... ... ... ... ...\n",
      "... ... { datetime: '1/1/2010',\n",
      "city: 'benton',\n",
      "state: 'ar',\n",
      "country: 'us',\n",
      "shape: 'circle',\n",
      "durationMinutes: '5 mins.',\n",
      "comments:\n",
      "'4 bright green circles high in the sky going in circles then one bright green light at my front door.' }\n",
      "{ datetime: '1/1/2010',\n",
      "city: 'bonita',\n",
      "state: 'ca',\n",
      "country: 'us',\n",
      "shape: 'light',\n",
      "durationMinutes: '13 minutes',\n",
      "comments:\n",
      "'Three bright red lights witnessed floating stationary over San Diego New Years Day 2010' }\n",
      "{ datetime: '1/1/2010',\n",
      "city: 'el cajon',\n",
      "state: 'ca',\n",
      "country: 'us',\n",
      "shape: 'triangle',\n",
      "durationMinutes: '6 minutes',\n",
      "comments:\n",
      "'On New Years Eve I went outside to hear the celebration and fireworks in my neighbor hood. And noticed 3 red lights above my house and' }\n"
     ]
    }
   ],
   "source": [
    "%%node\n",
    "var data = [{\n",
    "    datetime: \"1/1/2010\",\n",
    "    city: \"benton\",\n",
    "    state: \"ar\",\n",
    "    country: \"us\",\n",
    "    shape: \"circle\",\n",
    "    durationMinutes: \"5 mins.\",\n",
    "    comments: \"4 bright green circles high in the sky going in circles then one bright green light at my front door.\"\n",
    "  },\n",
    "  {\n",
    "    datetime: \"1/1/2010\",\n",
    "    city: \"bonita\",\n",
    "    state: \"ca\",\n",
    "    country: \"us\",\n",
    "    shape: \"light\",\n",
    "    durationMinutes: \"13 minutes\",\n",
    "    comments: \"Three bright red lights witnessed floating stationary over San Diego New Years Day 2010\"\n",
    "  },\n",
    "  {\n",
    "    datetime: \"1/1/2010\",\n",
    "    city: \"el cajon\",\n",
    "    state: \"ca\",\n",
    "    country: \"us\",\n",
    "    shape: \"triangle\",\n",
    "    durationMinutes: \"6 minutes\",\n",
    "    comments: \"On New Years Eve I went outside to hear the celebration and fireworks in my neighbor hood. And noticed 3 red lights above my house and\"\n",
    "  }];\n",
    "\n",
    "data.forEach(function(ufo){\n",
    "    console.log(ufo);\n",
    "});\n"
   ]
  },
  {
   "cell_type": "code",
   "execution_count": null,
   "metadata": {},
   "outputs": [],
   "source": []
  }
 ],
 "metadata": {
  "kernelspec": {
   "display_name": "Python 3",
   "language": "python",
   "name": "python3"
  },
  "language_info": {
   "codemirror_mode": {
    "name": "ipython",
    "version": 3
   },
   "file_extension": ".py",
   "mimetype": "text/x-python",
   "name": "python",
   "nbconvert_exporter": "python",
   "pygments_lexer": "ipython3",
   "version": "3.6.6"
  }
 },
 "nbformat": 4,
 "nbformat_minor": 2
}
